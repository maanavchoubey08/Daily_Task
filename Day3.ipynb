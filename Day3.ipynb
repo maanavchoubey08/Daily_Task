{
 "cells": [
  {
   "cell_type": "markdown",
   "id": "aa58c9fb",
   "metadata": {},
   "source": [
    "# Regular Expression"
   ]
  },
  {
   "cell_type": "code",
   "execution_count": 170,
   "id": "49a181fb",
   "metadata": {},
   "outputs": [
    {
     "data": {
      "text/plain": [
       "True"
      ]
     },
     "execution_count": 170,
     "metadata": {},
     "output_type": "execute_result"
    }
   ],
   "source": [
    "s = 'Maanav0812Choubey'\n",
    "'12' in s"
   ]
  },
  {
   "cell_type": "code",
   "execution_count": 171,
   "id": "10c779ee",
   "metadata": {},
   "outputs": [
    {
     "data": {
      "text/plain": [
       "8"
      ]
     },
     "execution_count": 171,
     "metadata": {},
     "output_type": "execute_result"
    }
   ],
   "source": [
    "s.find('12')"
   ]
  },
  {
   "cell_type": "code",
   "execution_count": 172,
   "id": "0d7e9104",
   "metadata": {},
   "outputs": [
    {
     "data": {
      "text/plain": [
       "8"
      ]
     },
     "execution_count": 172,
     "metadata": {},
     "output_type": "execute_result"
    }
   ],
   "source": [
    "s.index('12')"
   ]
  },
  {
   "cell_type": "code",
   "execution_count": 173,
   "id": "079dd5ce",
   "metadata": {},
   "outputs": [],
   "source": [
    "import re"
   ]
  },
  {
   "cell_type": "code",
   "execution_count": 174,
   "id": "a1897d50",
   "metadata": {},
   "outputs": [
    {
     "data": {
      "text/plain": [
       "<re.Match object; span=(3, 6), match='123'>"
      ]
     },
     "execution_count": 174,
     "metadata": {},
     "output_type": "execute_result"
    }
   ],
   "source": [
    "s = 'foo123bar'\n",
    "re.search('123',s)"
   ]
  },
  {
   "cell_type": "code",
   "execution_count": 175,
   "id": "7a076f60",
   "metadata": {},
   "outputs": [
    {
     "name": "stdout",
     "output_type": "stream",
     "text": [
      "Found a match\n"
     ]
    }
   ],
   "source": [
    "if re.search('123',s):\n",
    "    print('Found a match')\n",
    "else:\n",
    "    print('No match')"
   ]
  },
  {
   "cell_type": "code",
   "execution_count": 176,
   "id": "ac95d0ef",
   "metadata": {},
   "outputs": [
    {
     "data": {
      "text/plain": [
       "<re.Match object; span=(3, 6), match='123'>"
      ]
     },
     "execution_count": 176,
     "metadata": {},
     "output_type": "execute_result"
    }
   ],
   "source": [
    "s = 'foo123bar'\n",
    "re.search('[0-9][0-9][0-9]', s)"
   ]
  },
  {
   "cell_type": "code",
   "execution_count": 177,
   "id": "f769869f",
   "metadata": {},
   "outputs": [
    {
     "data": {
      "text/plain": [
       "<re.Match object; span=(3, 6), match='123'>"
      ]
     },
     "execution_count": 177,
     "metadata": {},
     "output_type": "execute_result"
    }
   ],
   "source": [
    "re.search('1.3',s)"
   ]
  },
  {
   "cell_type": "code",
   "execution_count": 178,
   "id": "bb177a84",
   "metadata": {},
   "outputs": [
    {
     "name": "stdout",
     "output_type": "stream",
     "text": [
      "None\n"
     ]
    }
   ],
   "source": [
    "s = 'foo13bar'\n",
    "print(re.search('1.3',s))"
   ]
  },
  {
   "cell_type": "code",
   "execution_count": 179,
   "id": "1f84fc58",
   "metadata": {},
   "outputs": [
    {
     "data": {
      "text/plain": [
       "<re.Match object; span=(3, 4), match='b'>"
      ]
     },
     "execution_count": 179,
     "metadata": {},
     "output_type": "execute_result"
    }
   ],
   "source": [
    "re.search('[a-z]', 'FOObar')"
   ]
  },
  {
   "cell_type": "code",
   "execution_count": 180,
   "id": "4fcabc3b",
   "metadata": {},
   "outputs": [
    {
     "data": {
      "text/plain": [
       "<re.Match object; span=(3, 5), match='12'>"
      ]
     },
     "execution_count": 180,
     "metadata": {},
     "output_type": "execute_result"
    }
   ],
   "source": [
    "re.search('[0-9][0-9]','foo123bar')"
   ]
  },
  {
   "cell_type": "code",
   "execution_count": 181,
   "id": "979795ae",
   "metadata": {},
   "outputs": [
    {
     "data": {
      "text/plain": [
       "<re.Match object; span=(6, 7), match='o'>"
      ]
     },
     "execution_count": 181,
     "metadata": {},
     "output_type": "execute_result"
    }
   ],
   "source": [
    "re.search('[^0-9]', '123456o9')"
   ]
  },
  {
   "cell_type": "code",
   "execution_count": 182,
   "id": "910ad706",
   "metadata": {},
   "outputs": [
    {
     "data": {
      "text/plain": [
       "<re.Match object; span=(3, 4), match='^'>"
      ]
     },
     "execution_count": 182,
     "metadata": {},
     "output_type": "execute_result"
    }
   ],
   "source": [
    "re.search('[#:^]', 'foo^bar:baz#qux')"
   ]
  },
  {
   "cell_type": "code",
   "execution_count": 183,
   "id": "8e8dcef6",
   "metadata": {},
   "outputs": [
    {
     "data": {
      "text/plain": [
       "<re.Match object; span=(3, 4), match='-'>"
      ]
     },
     "execution_count": 183,
     "metadata": {},
     "output_type": "execute_result"
    }
   ],
   "source": [
    "x = '123-456'\n",
    "re.search('[-abc]', x)\n",
    "re.search('[abc-]', x)\n",
    "re.search('[ab\\-c]', x)"
   ]
  },
  {
   "cell_type": "code",
   "execution_count": 184,
   "id": "2885fffc",
   "metadata": {},
   "outputs": [
    {
     "data": {
      "text/plain": [
       "<re.Match object; span=(5, 6), match=']'>"
      ]
     },
     "execution_count": 184,
     "metadata": {},
     "output_type": "execute_result"
    }
   ],
   "source": [
    "re.search('[]]','foo[1]')"
   ]
  },
  {
   "cell_type": "code",
   "execution_count": 185,
   "id": "68187c29",
   "metadata": {},
   "outputs": [
    {
     "data": {
      "text/plain": [
       "<re.Match object; span=(3, 4), match='*'>"
      ]
     },
     "execution_count": 185,
     "metadata": {},
     "output_type": "execute_result"
    }
   ],
   "source": [
    "re.search('[)*+|]', '123*456')"
   ]
  },
  {
   "cell_type": "code",
   "execution_count": 186,
   "id": "205e9076",
   "metadata": {},
   "outputs": [
    {
     "data": {
      "text/plain": [
       "<re.Match object; span=(0, 7), match='fooxbar'>"
      ]
     },
     "execution_count": 186,
     "metadata": {},
     "output_type": "execute_result"
    }
   ],
   "source": [
    "re.search('foo.bar','fooxbar')"
   ]
  },
  {
   "cell_type": "code",
   "execution_count": 187,
   "id": "3094e1b1",
   "metadata": {},
   "outputs": [
    {
     "name": "stdout",
     "output_type": "stream",
     "text": [
      "None\n"
     ]
    }
   ],
   "source": [
    "print(re.search('foo.bar','foobar'))"
   ]
  },
  {
   "cell_type": "code",
   "execution_count": 188,
   "id": "e8d019e3",
   "metadata": {},
   "outputs": [
    {
     "name": "stdout",
     "output_type": "stream",
     "text": [
      "None\n"
     ]
    }
   ],
   "source": [
    "print(re.search('foo.bar','foo\\nbar'))"
   ]
  },
  {
   "cell_type": "code",
   "execution_count": 189,
   "id": "2677c5ad",
   "metadata": {},
   "outputs": [
    {
     "data": {
      "text/plain": [
       "<re.Match object; span=(3, 4), match='1'>"
      ]
     },
     "execution_count": 189,
     "metadata": {},
     "output_type": "execute_result"
    }
   ],
   "source": [
    "re.search('\\w','#(.1$@&')"
   ]
  },
  {
   "cell_type": "code",
   "execution_count": 190,
   "id": "d526fa32",
   "metadata": {},
   "outputs": [
    {
     "data": {
      "text/plain": [
       "<re.Match object; span=(5, 6), match='A'>"
      ]
     },
     "execution_count": 190,
     "metadata": {},
     "output_type": "execute_result"
    }
   ],
   "source": [
    "re.search('\\w','#(.$@A&')"
   ]
  },
  {
   "cell_type": "code",
   "execution_count": 191,
   "id": "39fcd988",
   "metadata": {},
   "outputs": [
    {
     "data": {
      "text/plain": [
       "<re.Match object; span=(3, 4), match='*'>"
      ]
     },
     "execution_count": 191,
     "metadata": {},
     "output_type": "execute_result"
    }
   ],
   "source": [
    "re.search('\\W', 'a_1*3Qb')"
   ]
  },
  {
   "cell_type": "code",
   "execution_count": 192,
   "id": "30511018",
   "metadata": {},
   "outputs": [
    {
     "data": {
      "text/plain": [
       "<re.Match object; span=(3, 4), match='4'>"
      ]
     },
     "execution_count": 192,
     "metadata": {},
     "output_type": "execute_result"
    }
   ],
   "source": [
    "re.search('\\d','abc4def')"
   ]
  },
  {
   "cell_type": "code",
   "execution_count": 193,
   "id": "f76c2b53",
   "metadata": {},
   "outputs": [
    {
     "data": {
      "text/plain": [
       "<re.Match object; span=(2, 3), match='e'>"
      ]
     },
     "execution_count": 193,
     "metadata": {},
     "output_type": "execute_result"
    }
   ],
   "source": [
    "re.search('\\D','23e567')"
   ]
  },
  {
   "cell_type": "code",
   "execution_count": 194,
   "id": "74def6be",
   "metadata": {},
   "outputs": [
    {
     "data": {
      "text/plain": [
       "<re.Match object; span=(3, 4), match='\\n'>"
      ]
     },
     "execution_count": 194,
     "metadata": {},
     "output_type": "execute_result"
    }
   ],
   "source": [
    "re.search('\\s', 'foo\\nbar baz')"
   ]
  },
  {
   "cell_type": "code",
   "execution_count": 195,
   "id": "87687418",
   "metadata": {},
   "outputs": [
    {
     "data": {
      "text/plain": [
       "<re.Match object; span=(7, 8), match='M'>"
      ]
     },
     "execution_count": 195,
     "metadata": {},
     "output_type": "execute_result"
    }
   ],
   "source": [
    "re.search('\\S', '     \\n M')"
   ]
  },
  {
   "cell_type": "code",
   "execution_count": 196,
   "id": "7e4c280c",
   "metadata": {},
   "outputs": [
    {
     "data": {
      "text/plain": [
       "<re.Match object; span=(3, 4), match='\\\\'>"
      ]
     },
     "execution_count": 196,
     "metadata": {},
     "output_type": "execute_result"
    }
   ],
   "source": [
    "s = r'foo\\bar'\n",
    "re.search(r'\\\\', s)"
   ]
  },
  {
   "cell_type": "code",
   "execution_count": 197,
   "id": "3ba8249f",
   "metadata": {},
   "outputs": [
    {
     "data": {
      "text/plain": [
       "<re.Match object; span=(0, 3), match='foo'>"
      ]
     },
     "execution_count": 197,
     "metadata": {},
     "output_type": "execute_result"
    }
   ],
   "source": [
    "re.search('^foo', 'foobsr')"
   ]
  },
  {
   "cell_type": "code",
   "execution_count": 198,
   "id": "7287425a",
   "metadata": {},
   "outputs": [
    {
     "data": {
      "text/plain": [
       "<re.Match object; span=(0, 3), match='foo'>"
      ]
     },
     "execution_count": 198,
     "metadata": {},
     "output_type": "execute_result"
    }
   ],
   "source": [
    "re.search('\\Afoo', 'foobar')"
   ]
  },
  {
   "cell_type": "code",
   "execution_count": 199,
   "id": "ade3ab93",
   "metadata": {},
   "outputs": [],
   "source": [
    "re.search('\\Afoo', 'barfoo')"
   ]
  },
  {
   "cell_type": "code",
   "execution_count": 200,
   "id": "44f5b03f",
   "metadata": {},
   "outputs": [
    {
     "data": {
      "text/plain": [
       "<re.Match object; span=(5, 7), match='do'>"
      ]
     },
     "execution_count": 200,
     "metadata": {},
     "output_type": "execute_result"
    }
   ],
   "source": [
    "re.search('do$', 'Ronaldo')"
   ]
  },
  {
   "cell_type": "code",
   "execution_count": 201,
   "id": "a51f674f",
   "metadata": {},
   "outputs": [
    {
     "data": {
      "text/plain": [
       "<re.Match object; span=(4, 7), match='bar'>"
      ]
     },
     "execution_count": 201,
     "metadata": {},
     "output_type": "execute_result"
    }
   ],
   "source": [
    "re.search(r'\\bbar', 'foo bar')"
   ]
  },
  {
   "cell_type": "code",
   "execution_count": 202,
   "id": "b80cf54c",
   "metadata": {},
   "outputs": [
    {
     "data": {
      "text/plain": [
       "<re.Match object; span=(10, 13), match='cr7'>"
      ]
     },
     "execution_count": 202,
     "metadata": {},
     "output_type": "execute_result"
    }
   ],
   "source": [
    "re.search(r'\\bcr7\\b', 'cristiano cr7 ronaldo')"
   ]
  },
  {
   "cell_type": "code",
   "execution_count": 203,
   "id": "975fab79",
   "metadata": {},
   "outputs": [
    {
     "data": {
      "text/plain": [
       "<re.Match object; span=(9, 12), match='cr7'>"
      ]
     },
     "execution_count": 203,
     "metadata": {},
     "output_type": "execute_result"
    }
   ],
   "source": [
    "re.search(r'\\Bcr7\\B', 'cristianocr7ronaldo')"
   ]
  },
  {
   "cell_type": "code",
   "execution_count": 204,
   "id": "7b65d139",
   "metadata": {},
   "outputs": [
    {
     "name": "stdout",
     "output_type": "stream",
     "text": [
      "<re.Match object; span=(0, 6), match='foobar'>\n",
      "<re.Match object; span=(0, 7), match='foo-bar'>\n",
      "<re.Match object; span=(0, 8), match='foo--bar'>\n"
     ]
    }
   ],
   "source": [
    "print(re.search('foo-*bar', 'foobar'))\n",
    "print(re.search('foo-*bar', 'foo-bar'))\n",
    "print(re.search('foo-*bar', 'foo--bar'))"
   ]
  },
  {
   "cell_type": "code",
   "execution_count": 205,
   "id": "fbb18d91",
   "metadata": {},
   "outputs": [
    {
     "data": {
      "text/plain": [
       "<re.Match object; span=(2, 19), match='cristiano ronaldo'>"
      ]
     },
     "execution_count": 205,
     "metadata": {},
     "output_type": "execute_result"
    }
   ],
   "source": [
    "re.search('cris.*do', '# cristiano ronaldo')"
   ]
  },
  {
   "cell_type": "code",
   "execution_count": 206,
   "id": "06433077",
   "metadata": {},
   "outputs": [
    {
     "data": {
      "text/plain": [
       "<re.Match object; span=(2, 18), match='cristianoronaldo'>"
      ]
     },
     "execution_count": 206,
     "metadata": {},
     "output_type": "execute_result"
    }
   ],
   "source": [
    "re.search('cristiano-*ronaldo', '# cristianoronaldo')"
   ]
  },
  {
   "cell_type": "code",
   "execution_count": 207,
   "id": "ad35ce7d",
   "metadata": {},
   "outputs": [
    {
     "data": {
      "text/plain": [
       "<re.Match object; span=(0, 16), match='cristianoronaldo'>"
      ]
     },
     "execution_count": 207,
     "metadata": {},
     "output_type": "execute_result"
    }
   ],
   "source": [
    "re.search('cristiano-?ronaldo', 'cristianoronaldo')"
   ]
  },
  {
   "cell_type": "code",
   "execution_count": 208,
   "id": "e74e7b07",
   "metadata": {},
   "outputs": [
    {
     "data": {
      "text/plain": [
       "<re.Match object; span=(0, 17), match='cristiano-ronaldo'>"
      ]
     },
     "execution_count": 208,
     "metadata": {},
     "output_type": "execute_result"
    }
   ],
   "source": [
    "re.search('cristiano-?ronaldo', 'cristiano-ronaldo')"
   ]
  },
  {
   "cell_type": "code",
   "execution_count": 209,
   "id": "67ae742f",
   "metadata": {},
   "outputs": [
    {
     "name": "stdout",
     "output_type": "stream",
     "text": [
      "None\n"
     ]
    }
   ],
   "source": [
    "print(re.search('cristiano-?ronaldo', 'cristiano--ronaldo'))"
   ]
  },
  {
   "cell_type": "code",
   "execution_count": 210,
   "id": "5f551dd8",
   "metadata": {},
   "outputs": [
    {
     "data": {
      "text/plain": [
       "<re.Match object; span=(1, 6), match='<cr7>'>"
      ]
     },
     "execution_count": 210,
     "metadata": {},
     "output_type": "execute_result"
    }
   ],
   "source": [
    "re.search('<.*?>', '%<cr7> <cris> <ronaldo>')"
   ]
  },
  {
   "cell_type": "code",
   "execution_count": 211,
   "id": "baae47e2",
   "metadata": {},
   "outputs": [
    {
     "data": {
      "text/plain": [
       "<re.Match object; span=(0, 1), match='b'>"
      ]
     },
     "execution_count": 211,
     "metadata": {},
     "output_type": "execute_result"
    }
   ],
   "source": [
    "re.search('ba??', 'bababaaaa')"
   ]
  },
  {
   "cell_type": "code",
   "execution_count": 212,
   "id": "661f9d41",
   "metadata": {},
   "outputs": [
    {
     "name": "stdout",
     "output_type": "stream",
     "text": [
      "None\n"
     ]
    }
   ],
   "source": [
    "print(re.search('cr-{3}7', 'cr--7'))     "
   ]
  },
  {
   "cell_type": "code",
   "execution_count": 213,
   "id": "3d427638",
   "metadata": {},
   "outputs": [
    {
     "name": "stdout",
     "output_type": "stream",
     "text": [
      "<re.Match object; span=(0, 6), match='cr---7'>\n"
     ]
    }
   ],
   "source": [
    "print(re.search('cr-{3}7', 'cr---7'))     "
   ]
  },
  {
   "cell_type": "code",
   "execution_count": 214,
   "id": "cb8cb31e",
   "metadata": {},
   "outputs": [
    {
     "name": "stdout",
     "output_type": "stream",
     "text": [
      "1  cr-7       None\n",
      "2  cr--7      <re.Match object; span=(0, 5), match='cr--7'>\n",
      "3  cr---7     <re.Match object; span=(0, 6), match='cr---7'>\n",
      "4  cr----7    <re.Match object; span=(0, 7), match='cr----7'>\n",
      "5  cr-----7   None\n"
     ]
    }
   ],
   "source": [
    "for i in range(1, 6):\n",
    "    s = f\"cr{'-' * i}7\"\n",
    "    print(f'{i}  {s:10}', re.search('cr-{2,4}7', s))\n",
    "   "
   ]
  },
  {
   "cell_type": "code",
   "execution_count": 215,
   "id": "b0bb3fe4",
   "metadata": {},
   "outputs": [
    {
     "data": {
      "text/plain": [
       "<re.Match object; span=(2, 7), match='aaaaa'>"
      ]
     },
     "execution_count": 215,
     "metadata": {},
     "output_type": "execute_result"
    }
   ],
   "source": [
    "re.search('a{3,5}', 'fgaaaaagh')"
   ]
  },
  {
   "cell_type": "code",
   "execution_count": 216,
   "id": "781fdd10",
   "metadata": {},
   "outputs": [
    {
     "data": {
      "text/plain": [
       "<re.Match object; span=(2, 5), match='aaa'>"
      ]
     },
     "execution_count": 216,
     "metadata": {},
     "output_type": "execute_result"
    }
   ],
   "source": [
    "re.search('a{3,5}?', 'fgaaaaagh')"
   ]
  },
  {
   "cell_type": "code",
   "execution_count": 217,
   "id": "d15e41cf",
   "metadata": {},
   "outputs": [
    {
     "data": {
      "text/plain": [
       "<re.Match object; span=(5, 8), match='cr7'>"
      ]
     },
     "execution_count": 217,
     "metadata": {},
     "output_type": "execute_result"
    }
   ],
   "source": [
    "re.search('(cr7)', 'cris cr7 ronaldo')"
   ]
  },
  {
   "cell_type": "code",
   "execution_count": 218,
   "id": "f8ab080f",
   "metadata": {},
   "outputs": [
    {
     "data": {
      "text/plain": [
       "<re.Match object; span=(4, 7), match='cr7'>"
      ]
     },
     "execution_count": 218,
     "metadata": {},
     "output_type": "execute_result"
    }
   ],
   "source": [
    "re.search('(cr7)+', 'foo cr7 bar')"
   ]
  },
  {
   "cell_type": "code",
   "execution_count": 219,
   "id": "acd9a8f9",
   "metadata": {},
   "outputs": [
    {
     "data": {
      "text/plain": [
       "<re.Match object; span=(4, 13), match='cr7cr7cr7'>"
      ]
     },
     "execution_count": 219,
     "metadata": {},
     "output_type": "execute_result"
    }
   ],
   "source": [
    "re.search('(cr7)+', 'foo cr7cr7cr7 bar')"
   ]
  },
  {
   "cell_type": "code",
   "execution_count": 220,
   "id": "2d2e3345",
   "metadata": {},
   "outputs": [
    {
     "data": {
      "text/plain": [
       "<re.Match object; span=(0, 12), match='bazbarbazqux'>"
      ]
     },
     "execution_count": 220,
     "metadata": {},
     "output_type": "execute_result"
    }
   ],
   "source": [
    "re.search('(ba[rz]){2,4}(qux)?', 'bazbarbazqux')"
   ]
  },
  {
   "cell_type": "code",
   "execution_count": 221,
   "id": "cfbf40e1",
   "metadata": {},
   "outputs": [
    {
     "data": {
      "text/plain": [
       "<re.Match object; span=(0, 6), match='foofoo'>"
      ]
     },
     "execution_count": 221,
     "metadata": {},
     "output_type": "execute_result"
    }
   ],
   "source": [
    " re.search('(foo(bar)?)+(\\d\\d\\d)?', 'foofoo12')"
   ]
  },
  {
   "cell_type": "code",
   "execution_count": 222,
   "id": "060285f2",
   "metadata": {},
   "outputs": [
    {
     "data": {
      "text/plain": [
       "<re.Match object; span=(0, 23), match='cristiano, cr7, ronaldo'>"
      ]
     },
     "execution_count": 222,
     "metadata": {},
     "output_type": "execute_result"
    }
   ],
   "source": [
    "m = re.search('(\\w+), (\\w+), (\\w+)', 'cristiano, cr7, ronaldo')\n",
    "m"
   ]
  },
  {
   "cell_type": "code",
   "execution_count": 223,
   "id": "94a9fb63",
   "metadata": {},
   "outputs": [
    {
     "data": {
      "text/plain": [
       "('cristiano', 'cr7', 'ronaldo')"
      ]
     },
     "execution_count": 223,
     "metadata": {},
     "output_type": "execute_result"
    }
   ],
   "source": [
    "m.groups()"
   ]
  },
  {
   "cell_type": "code",
   "execution_count": 224,
   "id": "cfb10149",
   "metadata": {},
   "outputs": [
    {
     "data": {
      "text/plain": [
       "'cristiano'"
      ]
     },
     "execution_count": 224,
     "metadata": {},
     "output_type": "execute_result"
    }
   ],
   "source": [
    "m.group(1)"
   ]
  },
  {
   "cell_type": "code",
   "execution_count": 225,
   "id": "e941109c",
   "metadata": {},
   "outputs": [
    {
     "data": {
      "text/plain": [
       "'cr7'"
      ]
     },
     "execution_count": 225,
     "metadata": {},
     "output_type": "execute_result"
    }
   ],
   "source": [
    "m.group(2)"
   ]
  },
  {
   "cell_type": "code",
   "execution_count": 226,
   "id": "5256de2d",
   "metadata": {},
   "outputs": [
    {
     "data": {
      "text/plain": [
       "'ronaldo'"
      ]
     },
     "execution_count": 226,
     "metadata": {},
     "output_type": "execute_result"
    }
   ],
   "source": [
    "m.group(3)"
   ]
  },
  {
   "cell_type": "code",
   "execution_count": 227,
   "id": "c20d517c",
   "metadata": {},
   "outputs": [
    {
     "data": {
      "text/plain": [
       "('cr7', 'ronaldo')"
      ]
     },
     "execution_count": 227,
     "metadata": {},
     "output_type": "execute_result"
    }
   ],
   "source": [
    "m.group(2,3)"
   ]
  },
  {
   "cell_type": "code",
   "execution_count": 228,
   "id": "7ef21b16",
   "metadata": {},
   "outputs": [
    {
     "data": {
      "text/plain": [
       "('ronaldo', 'cr7', 'cristiano')"
      ]
     },
     "execution_count": 228,
     "metadata": {},
     "output_type": "execute_result"
    }
   ],
   "source": [
    "m.group(3,2,1)"
   ]
  },
  {
   "cell_type": "code",
   "execution_count": 229,
   "id": "6cffcf20",
   "metadata": {},
   "outputs": [
    {
     "data": {
      "text/plain": [
       "('ronaldo', 'cr7', 'cristiano')"
      ]
     },
     "execution_count": 229,
     "metadata": {},
     "output_type": "execute_result"
    }
   ],
   "source": [
    "(m.group(3), m.group(2), m.group(1))"
   ]
  },
  {
   "cell_type": "code",
   "execution_count": 230,
   "id": "3d9aaf99",
   "metadata": {},
   "outputs": [
    {
     "name": "stdout",
     "output_type": "stream",
     "text": [
      "<re.Match object; span=(0, 7), match='cr7,cr7'>\n"
     ]
    }
   ],
   "source": [
    "regex = r'(\\w+),\\1'\n",
    "m = re.search(regex, 'cr7,cr7')\n",
    "print(m)"
   ]
  },
  {
   "cell_type": "code",
   "execution_count": 231,
   "id": "10090a45",
   "metadata": {},
   "outputs": [
    {
     "name": "stdout",
     "output_type": "stream",
     "text": [
      "None\n"
     ]
    }
   ],
   "source": [
    "m = re.search(regex, 'cr7,lm10')\n",
    "print(m)"
   ]
  },
  {
   "cell_type": "code",
   "execution_count": 232,
   "id": "bfeed274",
   "metadata": {},
   "outputs": [
    {
     "name": "stdout",
     "output_type": "stream",
     "text": [
      "<re.Match object; span=(0, 3), match='d#d'>\n"
     ]
    }
   ],
   "source": [
    "print(re.search(r'([a-z])#\\1', 'd#d'))"
   ]
  },
  {
   "cell_type": "code",
   "execution_count": 233,
   "id": "bb532274",
   "metadata": {},
   "outputs": [],
   "source": [
    "m = re.search('(?P<a>\\w+) (?P<b>\\w+) (?P<c>\\w+)', 'cristiano cr7 ronaldo')"
   ]
  },
  {
   "cell_type": "code",
   "execution_count": 234,
   "id": "ec20c75e",
   "metadata": {},
   "outputs": [
    {
     "data": {
      "text/plain": [
       "'cr7'"
      ]
     },
     "execution_count": 234,
     "metadata": {},
     "output_type": "execute_result"
    }
   ],
   "source": [
    "m.group('b')"
   ]
  },
  {
   "cell_type": "code",
   "execution_count": 235,
   "id": "0954f94f",
   "metadata": {},
   "outputs": [
    {
     "data": {
      "text/plain": [
       "<re.Match object; span=(0, 7), match='cr7 cr7'>"
      ]
     },
     "execution_count": 235,
     "metadata": {},
     "output_type": "execute_result"
    }
   ],
   "source": [
    "m = re.search('(?P<goat>\\w+) (?P=goat)', 'cr7 cr7')\n",
    "m"
   ]
  },
  {
   "cell_type": "code",
   "execution_count": 236,
   "id": "7a7eae0d",
   "metadata": {},
   "outputs": [
    {
     "data": {
      "text/plain": [
       "'cr7'"
      ]
     },
     "execution_count": 236,
     "metadata": {},
     "output_type": "execute_result"
    }
   ],
   "source": [
    "m.group('goat')"
   ]
  },
  {
   "cell_type": "code",
   "execution_count": 237,
   "id": "21556915",
   "metadata": {},
   "outputs": [
    {
     "data": {
      "text/plain": [
       "('lionel', 'messi')"
      ]
     },
     "execution_count": 237,
     "metadata": {},
     "output_type": "execute_result"
    }
   ],
   "source": [
    "m = re.search('(\\w+) (?:\\w+) (\\w+)', 'lionel lm10 messi')\n",
    "m.groups()"
   ]
  },
  {
   "cell_type": "code",
   "execution_count": 238,
   "id": "732d88cb",
   "metadata": {},
   "outputs": [],
   "source": [
    "regex = r'^(###)?foo(?(1)bar|baz)'"
   ]
  },
  {
   "cell_type": "code",
   "execution_count": 239,
   "id": "a68436f8",
   "metadata": {},
   "outputs": [
    {
     "name": "stdout",
     "output_type": "stream",
     "text": [
      "<re.Match object; span=(0, 9), match='###foobar'>\n"
     ]
    }
   ],
   "source": [
    "print(re.search(regex, '###foobar'))"
   ]
  },
  {
   "cell_type": "code",
   "execution_count": 240,
   "id": "51469a0a",
   "metadata": {},
   "outputs": [],
   "source": [
    "regex = r'^(?P<ch>\\W)?cr7(?(ch)(?P=ch)|)$'"
   ]
  },
  {
   "cell_type": "code",
   "execution_count": 241,
   "id": "b01cb674",
   "metadata": {},
   "outputs": [
    {
     "data": {
      "text/plain": [
       "<re.Match object; span=(0, 3), match='cr7'>"
      ]
     },
     "execution_count": 241,
     "metadata": {},
     "output_type": "execute_result"
    }
   ],
   "source": [
    "re.search(regex, 'cr7')"
   ]
  },
  {
   "cell_type": "code",
   "execution_count": 242,
   "id": "96357062",
   "metadata": {},
   "outputs": [
    {
     "name": "stdout",
     "output_type": "stream",
     "text": [
      "<re.Match object; span=(0, 5), match='|cr7|'>\n"
     ]
    }
   ],
   "source": [
    "print(re.search(regex, '|cr7|'))"
   ]
  },
  {
   "cell_type": "code",
   "execution_count": 243,
   "id": "a5d81a13",
   "metadata": {},
   "outputs": [
    {
     "name": "stdout",
     "output_type": "stream",
     "text": [
      "None\n"
     ]
    }
   ],
   "source": [
    "print(re.search(regex, '@cr7|'))"
   ]
  },
  {
   "cell_type": "code",
   "execution_count": 244,
   "id": "408f9b7e",
   "metadata": {},
   "outputs": [
    {
     "data": {
      "text/plain": [
       "<re.Match object; span=(0, 2), match='cr'>"
      ]
     },
     "execution_count": 244,
     "metadata": {},
     "output_type": "execute_result"
    }
   ],
   "source": [
    "re.search('cr(?=[0-9])', 'cr7')"
   ]
  },
  {
   "cell_type": "code",
   "execution_count": 245,
   "id": "f4311d3f",
   "metadata": {},
   "outputs": [
    {
     "name": "stdout",
     "output_type": "stream",
     "text": [
      "None\n"
     ]
    }
   ],
   "source": [
    "print(re.search('cr(?=[0-9])', 'cristiano7'))"
   ]
  },
  {
   "cell_type": "code",
   "execution_count": 246,
   "id": "42bd5b34",
   "metadata": {},
   "outputs": [
    {
     "name": "stdout",
     "output_type": "stream",
     "text": [
      "None\n"
     ]
    }
   ],
   "source": [
    "print(re.search('foo(?=[a-z])', 'foo123'))"
   ]
  },
  {
   "cell_type": "code",
   "execution_count": 247,
   "id": "3b42a5e5",
   "metadata": {},
   "outputs": [
    {
     "data": {
      "text/plain": [
       "<re.Match object; span=(0, 3), match='cr7'>"
      ]
     },
     "execution_count": 247,
     "metadata": {},
     "output_type": "execute_result"
    }
   ],
   "source": [
    "re.search('cr([0-9])', 'cr7')"
   ]
  },
  {
   "cell_type": "code",
   "execution_count": 248,
   "id": "dd9db145",
   "metadata": {},
   "outputs": [
    {
     "data": {
      "text/plain": [
       "'b'"
      ]
     },
     "execution_count": 248,
     "metadata": {},
     "output_type": "execute_result"
    }
   ],
   "source": [
    "m = re.search('foo(?=[a-z])(?P<ch>.)', 'foobar')\n",
    "m.group('ch')"
   ]
  },
  {
   "cell_type": "code",
   "execution_count": 249,
   "id": "ae915329",
   "metadata": {},
   "outputs": [
    {
     "data": {
      "text/plain": [
       "'a'"
      ]
     },
     "execution_count": 249,
     "metadata": {},
     "output_type": "execute_result"
    }
   ],
   "source": [
    "m = re.search('foo([a-z])(?P<ch>.)', 'foobar')\n",
    "m.group('ch')"
   ]
  },
  {
   "cell_type": "code",
   "execution_count": 250,
   "id": "a8572c90",
   "metadata": {},
   "outputs": [
    {
     "name": "stdout",
     "output_type": "stream",
     "text": [
      "None\n"
     ]
    }
   ],
   "source": [
    "print(re.search('foo(?![a-z])', 'foobar'))"
   ]
  },
  {
   "cell_type": "code",
   "execution_count": 251,
   "id": "fea5650e",
   "metadata": {},
   "outputs": [
    {
     "name": "stdout",
     "output_type": "stream",
     "text": [
      "None\n"
     ]
    }
   ],
   "source": [
    "print(re.search('foo(?=[a-z])', 'foo123'))"
   ]
  },
  {
   "cell_type": "code",
   "execution_count": 252,
   "id": "1c85ed21",
   "metadata": {},
   "outputs": [
    {
     "data": {
      "text/plain": [
       "<re.Match object; span=(0, 3), match='foo'>"
      ]
     },
     "execution_count": 252,
     "metadata": {},
     "output_type": "execute_result"
    }
   ],
   "source": [
    "re.search('foo(?![a-z])', 'foo123')"
   ]
  },
  {
   "cell_type": "code",
   "execution_count": 253,
   "id": "85521489",
   "metadata": {},
   "outputs": [
    {
     "data": {
      "text/plain": [
       "<re.Match object; span=(0, 9), match='cristiano'>"
      ]
     },
     "execution_count": 253,
     "metadata": {},
     "output_type": "execute_result"
    }
   ],
   "source": [
    "re.search('cristiano(?![a-z])', 'cristiano7')"
   ]
  },
  {
   "cell_type": "code",
   "execution_count": 254,
   "id": "7dfd6a76",
   "metadata": {},
   "outputs": [
    {
     "data": {
      "text/plain": [
       "<re.Match object; span=(3, 6), match='bar'>"
      ]
     },
     "execution_count": 254,
     "metadata": {},
     "output_type": "execute_result"
    }
   ],
   "source": [
    "re.search('(?<=foo)bar', 'foobar')\n"
   ]
  },
  {
   "cell_type": "code",
   "execution_count": 256,
   "id": "5ff53ca4",
   "metadata": {},
   "outputs": [
    {
     "data": {
      "text/plain": [
       "<re.Match object; span=(4, 9), match='tiano'>"
      ]
     },
     "execution_count": 256,
     "metadata": {},
     "output_type": "execute_result"
    }
   ],
   "source": [
    "re.search('(?<=cris)tiano', 'cristiano')"
   ]
  },
  {
   "cell_type": "code",
   "execution_count": 257,
   "id": "9de7cb34",
   "metadata": {},
   "outputs": [
    {
     "name": "stdout",
     "output_type": "stream",
     "text": [
      "None\n"
     ]
    }
   ],
   "source": [
    "print(re.search('(?<=qux)bar', 'foobar'))"
   ]
  },
  {
   "cell_type": "code",
   "execution_count": 258,
   "id": "066727a6",
   "metadata": {},
   "outputs": [
    {
     "name": "stdout",
     "output_type": "stream",
     "text": [
      "None\n"
     ]
    }
   ],
   "source": [
    "print(re.search('(?<!foo)bar', 'foobar'))"
   ]
  },
  {
   "cell_type": "code",
   "execution_count": 259,
   "id": "2ad74729",
   "metadata": {},
   "outputs": [
    {
     "data": {
      "text/plain": [
       "<re.Match object; span=(3, 6), match='bar'>"
      ]
     },
     "execution_count": 259,
     "metadata": {},
     "output_type": "execute_result"
    }
   ],
   "source": [
    "re.search('(?<!qux)bar', 'foobar')"
   ]
  },
  {
   "cell_type": "code",
   "execution_count": 260,
   "id": "45b82456",
   "metadata": {},
   "outputs": [
    {
     "data": {
      "text/plain": [
       "<re.Match object; span=(9, 17), match=' ronaldo'>"
      ]
     },
     "execution_count": 260,
     "metadata": {},
     "output_type": "execute_result"
    }
   ],
   "source": [
    "re.search('(?<!leo) ronaldo', 'cristiano ronaldo')"
   ]
  },
  {
   "cell_type": "code",
   "execution_count": 261,
   "id": "17bdce0c",
   "metadata": {},
   "outputs": [
    {
     "data": {
      "text/plain": [
       "<re.Match object; span=(4, 11), match='bar baz'>"
      ]
     },
     "execution_count": 261,
     "metadata": {},
     "output_type": "execute_result"
    }
   ],
   "source": [
    "re.search('bar(?#This is a comment) *baz', 'foo bar baz qux')"
   ]
  },
  {
   "cell_type": "code",
   "execution_count": 262,
   "id": "8bd283d1",
   "metadata": {},
   "outputs": [
    {
     "data": {
      "text/plain": [
       "<re.Match object; span=(0, 3), match='bar'>"
      ]
     },
     "execution_count": 262,
     "metadata": {},
     "output_type": "execute_result"
    }
   ],
   "source": [
    "re.search('foo|bar|baz', 'bar')"
   ]
  },
  {
   "cell_type": "code",
   "execution_count": 263,
   "id": "7b5dcc19",
   "metadata": {},
   "outputs": [
    {
     "data": {
      "text/plain": [
       "<re.Match object; span=(0, 3), match='baz'>"
      ]
     },
     "execution_count": 263,
     "metadata": {},
     "output_type": "execute_result"
    }
   ],
   "source": [
    "re.search('foo|bar|baz', 'baz')"
   ]
  },
  {
   "cell_type": "code",
   "execution_count": 264,
   "id": "2f0b0ae3",
   "metadata": {},
   "outputs": [
    {
     "name": "stdout",
     "output_type": "stream",
     "text": [
      "None\n"
     ]
    }
   ],
   "source": [
    "print(re.search('foo|bar|baz', 'quux'))"
   ]
  },
  {
   "cell_type": "code",
   "execution_count": 268,
   "id": "2be40ba3",
   "metadata": {},
   "outputs": [
    {
     "data": {
      "text/plain": [
       "<re.Match object; span=(0, 3), match='cr7'>"
      ]
     },
     "execution_count": 268,
     "metadata": {},
     "output_type": "execute_result"
    }
   ],
   "source": [
    "re.search('lm30|cr7|nj10', 'cr7lm30cr7')"
   ]
  },
  {
   "cell_type": "code",
   "execution_count": 269,
   "id": "344d1267",
   "metadata": {},
   "outputs": [
    {
     "data": {
      "text/plain": [
       "<re.Match object; span=(0, 3), match='foo'>"
      ]
     },
     "execution_count": 269,
     "metadata": {},
     "output_type": "execute_result"
    }
   ],
   "source": [
    "re.search('foo|grault', 'foograult')"
   ]
  },
  {
   "cell_type": "code",
   "execution_count": 270,
   "id": "7e53dc98",
   "metadata": {},
   "outputs": [
    {
     "data": {
      "text/plain": [
       "<re.Match object; span=(0, 9), match='foofoofoo'>"
      ]
     },
     "execution_count": 270,
     "metadata": {},
     "output_type": "execute_result"
    }
   ],
   "source": [
    "re.search('(foo|bar|baz)+', 'foofoofoo')"
   ]
  },
  {
   "cell_type": "code",
   "execution_count": 271,
   "id": "2167bc43",
   "metadata": {},
   "outputs": [
    {
     "data": {
      "text/plain": [
       "<re.Match object; span=(0, 12), match='bazbazbazbaz'>"
      ]
     },
     "execution_count": 271,
     "metadata": {},
     "output_type": "execute_result"
    }
   ],
   "source": [
    "re.search('(foo|bar|baz)+', 'bazbazbazbaz')"
   ]
  },
  {
   "cell_type": "code",
   "execution_count": 272,
   "id": "386e352f",
   "metadata": {},
   "outputs": [
    {
     "data": {
      "text/plain": [
       "<re.Match object; span=(0, 9), match='barbazfoo'>"
      ]
     },
     "execution_count": 272,
     "metadata": {},
     "output_type": "execute_result"
    }
   ],
   "source": [
    "re.search('(foo|bar|baz)+', 'barbazfoo')"
   ]
  },
  {
   "cell_type": "code",
   "execution_count": 273,
   "id": "181f95ed",
   "metadata": {},
   "outputs": [
    {
     "data": {
      "text/plain": [
       "<re.Match object; span=(0, 3), match='cr7'>"
      ]
     },
     "execution_count": 273,
     "metadata": {},
     "output_type": "execute_result"
    }
   ],
   "source": [
    "re.search('cr7|lm30|nj10', 'cr7cr7cr7')"
   ]
  },
  {
   "cell_type": "code",
   "execution_count": 274,
   "id": "900e1d08",
   "metadata": {},
   "outputs": [
    {
     "data": {
      "text/plain": [
       "<re.Match object; span=(0, 3), match='456'>"
      ]
     },
     "execution_count": 274,
     "metadata": {},
     "output_type": "execute_result"
    }
   ],
   "source": [
    "re.search('([0-9]+|[a-f]+)', '456')"
   ]
  },
  {
   "cell_type": "code",
   "execution_count": 275,
   "id": "c76b32a7",
   "metadata": {},
   "outputs": [
    {
     "data": {
      "text/plain": [
       "<re.Match object; span=(0, 4), match='ffda'>"
      ]
     },
     "execution_count": 275,
     "metadata": {},
     "output_type": "execute_result"
    }
   ],
   "source": [
    "re.search('([0-9]+|[a-f]+)', 'ffda')"
   ]
  },
  {
   "cell_type": "code",
   "execution_count": 277,
   "id": "0880b1d3",
   "metadata": {},
   "outputs": [
    {
     "data": {
      "text/plain": [
       "<re.Match object; span=(0, 3), match='777'>"
      ]
     },
     "execution_count": 277,
     "metadata": {},
     "output_type": "execute_result"
    }
   ],
   "source": [
    "re.search('([a-z]+|[0-9]+)', '777')"
   ]
  },
  {
   "cell_type": "code",
   "execution_count": 278,
   "id": "b94c60e6",
   "metadata": {},
   "outputs": [
    {
     "data": {
      "text/plain": [
       "<re.Match object; span=(0, 3), match='aaa'>"
      ]
     },
     "execution_count": 278,
     "metadata": {},
     "output_type": "execute_result"
    }
   ],
   "source": [
    "re.search('a+', 'aaaAAA')"
   ]
  },
  {
   "cell_type": "code",
   "execution_count": 279,
   "id": "79255d7d",
   "metadata": {},
   "outputs": [
    {
     "data": {
      "text/plain": [
       "<re.Match object; span=(0, 6), match='aaaAAA'>"
      ]
     },
     "execution_count": 279,
     "metadata": {},
     "output_type": "execute_result"
    }
   ],
   "source": [
    "re.search('a+', 'aaaAAA', re.I)"
   ]
  },
  {
   "cell_type": "code",
   "execution_count": 280,
   "id": "85784b48",
   "metadata": {},
   "outputs": [
    {
     "data": {
      "text/plain": [
       "<re.Match object; span=(0, 1), match='a'>"
      ]
     },
     "execution_count": 280,
     "metadata": {},
     "output_type": "execute_result"
    }
   ],
   "source": [
    "re.search('[a-z]+', 'aBcDeF')"
   ]
  },
  {
   "cell_type": "code",
   "execution_count": 281,
   "id": "9577199f",
   "metadata": {},
   "outputs": [
    {
     "data": {
      "text/plain": [
       "<re.Match object; span=(0, 6), match='aBcDeF'>"
      ]
     },
     "execution_count": 281,
     "metadata": {},
     "output_type": "execute_result"
    }
   ],
   "source": [
    "re.search('[a-z]+', 'aBcDeF', re.I)"
   ]
  },
  {
   "cell_type": "code",
   "execution_count": 282,
   "id": "538d5b00",
   "metadata": {},
   "outputs": [],
   "source": [
    "s = 'foo\\nbar\\nbaz'\n"
   ]
  },
  {
   "cell_type": "code",
   "execution_count": 283,
   "id": "1faaff10",
   "metadata": {},
   "outputs": [
    {
     "data": {
      "text/plain": [
       "<re.Match object; span=(0, 3), match='foo'>"
      ]
     },
     "execution_count": 283,
     "metadata": {},
     "output_type": "execute_result"
    }
   ],
   "source": [
    "re.search('^foo', s)"
   ]
  },
  {
   "cell_type": "code",
   "execution_count": 284,
   "id": "45d55dbc",
   "metadata": {},
   "outputs": [
    {
     "name": "stdout",
     "output_type": "stream",
     "text": [
      "None\n"
     ]
    }
   ],
   "source": [
    "print(re.search('^bar', s))"
   ]
  },
  {
   "cell_type": "code",
   "execution_count": 285,
   "id": "26d5ae1b",
   "metadata": {},
   "outputs": [
    {
     "data": {
      "text/plain": [
       "<re.Match object; span=(8, 11), match='baz'>"
      ]
     },
     "execution_count": 285,
     "metadata": {},
     "output_type": "execute_result"
    }
   ],
   "source": [
    "re.search('baz$', s)"
   ]
  },
  {
   "cell_type": "code",
   "execution_count": 286,
   "id": "bfd75254",
   "metadata": {},
   "outputs": [
    {
     "data": {
      "text/plain": [
       "<re.Match object; span=(0, 3), match='foo'>"
      ]
     },
     "execution_count": 286,
     "metadata": {},
     "output_type": "execute_result"
    }
   ],
   "source": [
    " re.search('^foo', s, re.MULTILINE)"
   ]
  },
  {
   "cell_type": "code",
   "execution_count": 287,
   "id": "2719b5e8",
   "metadata": {},
   "outputs": [
    {
     "data": {
      "text/plain": [
       "<re.Match object; span=(4, 7), match='bar'>"
      ]
     },
     "execution_count": 287,
     "metadata": {},
     "output_type": "execute_result"
    }
   ],
   "source": [
    "re.search('^bar', s, re.MULTILINE)"
   ]
  },
  {
   "cell_type": "code",
   "execution_count": 288,
   "id": "878374da",
   "metadata": {},
   "outputs": [
    {
     "data": {
      "text/plain": [
       "<re.Match object; span=(0, 3), match='foo'>"
      ]
     },
     "execution_count": 288,
     "metadata": {},
     "output_type": "execute_result"
    }
   ],
   "source": [
    "re.search('foo$', s, re.M)"
   ]
  },
  {
   "cell_type": "code",
   "execution_count": 291,
   "id": "1d64ca5f",
   "metadata": {},
   "outputs": [
    {
     "name": "stdout",
     "output_type": "stream",
     "text": [
      "<re.Match object; span=(4, 7), match='bar'>\n",
      "<re.Match object; span=(8, 11), match='baz'>\n",
      "<re.Match object; span=(8, 11), match='baz'>\n"
     ]
    }
   ],
   "source": [
    "print(re.search('bar$', s, re.M))\n",
    "print(re.search('baz$', s, re.M))\n",
    "print(re.search('^baz', s, re.M))"
   ]
  },
  {
   "cell_type": "code",
   "execution_count": 292,
   "id": "ddff806a",
   "metadata": {},
   "outputs": [
    {
     "name": "stdout",
     "output_type": "stream",
     "text": [
      "None\n"
     ]
    },
    {
     "data": {
      "text/plain": [
       "<re.Match object; span=(0, 7), match='foo\\nbar'>"
      ]
     },
     "execution_count": 292,
     "metadata": {},
     "output_type": "execute_result"
    }
   ],
   "source": [
    "print(re.search('foo.bar', 'foo\\nbar'))\n",
    "re.search('foo.bar', 'foo\\nbar', re.S)"
   ]
  },
  {
   "cell_type": "code",
   "execution_count": 293,
   "id": "53d9c603",
   "metadata": {},
   "outputs": [],
   "source": [
    "regex = r'^(\\(\\d{3}\\))?\\s*\\d{3}[-.]\\d{4}$'"
   ]
  },
  {
   "cell_type": "code",
   "execution_count": 294,
   "id": "c56f03e1",
   "metadata": {},
   "outputs": [
    {
     "data": {
      "text/plain": [
       "<re.Match object; span=(0, 8), match='414.9229'>"
      ]
     },
     "execution_count": 294,
     "metadata": {},
     "output_type": "execute_result"
    }
   ],
   "source": [
    "re.search(regex, '414.9229')"
   ]
  },
  {
   "cell_type": "code",
   "execution_count": 295,
   "id": "ed3d2ea3",
   "metadata": {},
   "outputs": [
    {
     "name": "stdout",
     "output_type": "stream",
     "text": [
      "<re.Match object; span=(0, 8), match='414-9229'>\n",
      "<re.Match object; span=(0, 13), match='(712)414-9229'>\n",
      "<re.Match object; span=(0, 14), match='(712) 414-9229'>\n"
     ]
    }
   ],
   "source": [
    "print(re.search(regex, '414-9229'))\n",
    "print(re.search(regex, '(712)414-9229'))\n",
    "print(re.search(regex, '(712) 414-9229'))"
   ]
  },
  {
   "cell_type": "code",
   "execution_count": 296,
   "id": "e061ba41",
   "metadata": {},
   "outputs": [
    {
     "data": {
      "text/plain": [
       "<re.Match object; span=(0, 8), match='414.9229'>"
      ]
     },
     "execution_count": 296,
     "metadata": {},
     "output_type": "execute_result"
    }
   ],
   "source": [
    "regex = r'''^               # Start of string\n",
    "...             (\\(\\d{3}\\))?    # Optional area code\n",
    "...             \\s*             # Optional whitespace\n",
    "...             \\d{3}           # Three-digit prefix\n",
    "...             [-.]            # Separator character\n",
    "...             \\d{4}           # Four-digit line number\n",
    "...             $               # Anchor at end of string\n",
    "...             '''\n",
    "re.search(regex, '414.9229', re.VERBOSE)"
   ]
  },
  {
   "cell_type": "code",
   "execution_count": 297,
   "id": "5d1d61b4",
   "metadata": {},
   "outputs": [
    {
     "data": {
      "text/plain": [
       "<re.Match object; span=(0, 8), match='414-9229'>"
      ]
     },
     "execution_count": 297,
     "metadata": {},
     "output_type": "execute_result"
    }
   ],
   "source": [
    "re.search(regex, '414-9229', re.VERBOSE)"
   ]
  },
  {
   "cell_type": "code",
   "execution_count": 298,
   "id": "d8518c49",
   "metadata": {},
   "outputs": [
    {
     "data": {
      "text/plain": [
       "<re.Match object; span=(0, 13), match='(712)414-9229'>"
      ]
     },
     "execution_count": 298,
     "metadata": {},
     "output_type": "execute_result"
    }
   ],
   "source": [
    "re.search(regex, '(712)414-9229', re.X)"
   ]
  },
  {
   "cell_type": "code",
   "execution_count": 299,
   "id": "f768b11c",
   "metadata": {},
   "outputs": [
    {
     "data": {
      "text/plain": [
       "<re.Match object; span=(0, 14), match='(712) 414-9229'>"
      ]
     },
     "execution_count": 299,
     "metadata": {},
     "output_type": "execute_result"
    }
   ],
   "source": [
    "re.search(regex, '(712) 414-9229', re.X)"
   ]
  },
  {
   "cell_type": "code",
   "execution_count": 300,
   "id": "2c404df2",
   "metadata": {},
   "outputs": [
    {
     "name": "stdout",
     "output_type": "stream",
     "text": [
      "<re.Match object; span=(0, 7), match='foo bar'>\n",
      "None\n",
      "<re.Match object; span=(0, 7), match='foo bar'>\n",
      "<re.Match object; span=(0, 7), match='foo bar'>\n"
     ]
    }
   ],
   "source": [
    "print(re.search('foo bar', 'foo bar'))\n",
    "print(re.search('foo bar', 'foo bar', re.VERBOSE))\n",
    "print(re.search('foo\\ bar', 'foo bar', re.VERBOSE))\n",
    "print(re.search('foo[ ]bar', 'foo bar', re.VERBOSE))"
   ]
  },
  {
   "cell_type": "code",
   "execution_count": 301,
   "id": "bf89c8d4",
   "metadata": {},
   "outputs": [
    {
     "name": "stdout",
     "output_type": "stream",
     "text": [
      "LITERAL 102\n",
      "LITERAL 111\n",
      "LITERAL 111\n",
      "ANY None\n",
      "LITERAL 98\n",
      "LITERAL 97\n",
      "LITERAL 114\n",
      "\n",
      " 0. INFO 12 0b1 7 7 (to 13)\n",
      "      prefix_skip 3\n",
      "      prefix [0x66, 0x6f, 0x6f] ('foo')\n",
      "      overlap [0, 0, 0]\n",
      "13: LITERAL 0x66 ('f')\n",
      "15. LITERAL 0x6f ('o')\n",
      "17. LITERAL 0x6f ('o')\n",
      "19. ANY\n",
      "20. LITERAL 0x62 ('b')\n",
      "22. LITERAL 0x61 ('a')\n",
      "24. LITERAL 0x72 ('r')\n",
      "26. SUCCESS\n"
     ]
    },
    {
     "data": {
      "text/plain": [
       "<re.Match object; span=(0, 7), match='fooxbar'>"
      ]
     },
     "execution_count": 301,
     "metadata": {},
     "output_type": "execute_result"
    }
   ],
   "source": [
    "re.search('foo.bar', 'fooxbar', re.DEBUG)"
   ]
  },
  {
   "cell_type": "code",
   "execution_count": 302,
   "id": "16e0505b",
   "metadata": {},
   "outputs": [
    {
     "name": "stdout",
     "output_type": "stream",
     "text": [
      "AT AT_BEGINNING\n",
      "MAX_REPEAT 0 1\n",
      "  SUBPATTERN 1 0 0\n",
      "    LITERAL 40\n",
      "    MAX_REPEAT 3 3\n",
      "      IN\n",
      "        CATEGORY CATEGORY_DIGIT\n",
      "    LITERAL 41\n",
      "MAX_REPEAT 0 MAXREPEAT\n",
      "  IN\n",
      "    CATEGORY CATEGORY_SPACE\n",
      "MAX_REPEAT 3 3\n",
      "  IN\n",
      "    CATEGORY CATEGORY_DIGIT\n",
      "IN\n",
      "  LITERAL 45\n",
      "  LITERAL 46\n",
      "MAX_REPEAT 4 4\n",
      "  IN\n",
      "    CATEGORY CATEGORY_DIGIT\n",
      "AT AT_END\n",
      "\n",
      " 0. INFO 4 0b0 8 MAXREPEAT (to 5)\n",
      " 5: AT BEGINNING\n",
      " 7. REPEAT 21 0 1 (to 29)\n",
      "11.   MARK 0\n",
      "13.   LITERAL 0x28 ('(')\n",
      "15.   REPEAT_ONE 9 3 3 (to 25)\n",
      "19.     IN 4 (to 24)\n",
      "21.       CATEGORY UNI_DIGIT\n",
      "23.       FAILURE\n",
      "24:     SUCCESS\n",
      "25:   LITERAL 0x29 (')')\n",
      "27.   MARK 1\n",
      "29: MAX_UNTIL\n",
      "30. REPEAT_ONE 9 0 MAXREPEAT (to 40)\n",
      "34.   IN 4 (to 39)\n",
      "36.     CATEGORY UNI_SPACE\n",
      "38.     FAILURE\n",
      "39:   SUCCESS\n",
      "40: REPEAT_ONE 9 3 3 (to 50)\n",
      "44.   IN 4 (to 49)\n",
      "46.     CATEGORY UNI_DIGIT\n",
      "48.     FAILURE\n",
      "49:   SUCCESS\n",
      "50: IN 5 (to 56)\n",
      "52.   RANGE 0x2d 0x2e ('-'-'.')\n",
      "55.   FAILURE\n",
      "56: REPEAT_ONE 9 4 4 (to 66)\n",
      "60.   IN 4 (to 65)\n",
      "62.     CATEGORY UNI_DIGIT\n",
      "64.     FAILURE\n",
      "65:   SUCCESS\n",
      "66: AT END\n",
      "68. SUCCESS\n"
     ]
    },
    {
     "data": {
      "text/plain": [
       "<re.Match object; span=(0, 8), match='414.9229'>"
      ]
     },
     "execution_count": 302,
     "metadata": {},
     "output_type": "execute_result"
    }
   ],
   "source": [
    "regex = r'^(\\(\\d{3}\\))?\\s*\\d{3}[-.]\\d{4}$'\n",
    "\n",
    "re.search(regex, '414.9229', re.DEBUG)"
   ]
  },
  {
   "cell_type": "code",
   "execution_count": 303,
   "id": "723d3ef7",
   "metadata": {},
   "outputs": [
    {
     "data": {
      "text/plain": [
       "<re.Match object; span=(0, 5), match='x222y'>"
      ]
     },
     "execution_count": 303,
     "metadata": {},
     "output_type": "execute_result"
    }
   ],
   "source": [
    "re.search('x[123]{2,4}y', 'x222y')"
   ]
  },
  {
   "cell_type": "code",
   "execution_count": 304,
   "id": "6042f2dd",
   "metadata": {},
   "outputs": [
    {
     "name": "stdout",
     "output_type": "stream",
     "text": [
      "LITERAL 120\n",
      "MAX_REPEAT 2 4\n",
      "  IN\n",
      "    LITERAL 49\n",
      "    LITERAL 50\n",
      "    LITERAL 51\n",
      "LITERAL 121\n",
      "\n",
      " 0. INFO 8 0b1 4 6 (to 9)\n",
      "      prefix_skip 1\n",
      "      prefix [0x78] ('x')\n",
      "      overlap [0]\n",
      " 9: LITERAL 0x78 ('x')\n",
      "11. REPEAT_ONE 10 2 4 (to 22)\n",
      "15.   IN 5 (to 21)\n",
      "17.     RANGE 0x31 0x33 ('1'-'3')\n",
      "20.     FAILURE\n",
      "21:   SUCCESS\n",
      "22: LITERAL 0x79 ('y')\n",
      "24. SUCCESS\n"
     ]
    },
    {
     "data": {
      "text/plain": [
       "<re.Match object; span=(0, 5), match='x222y'>"
      ]
     },
     "execution_count": 304,
     "metadata": {},
     "output_type": "execute_result"
    }
   ],
   "source": [
    "re.search('x[123]{2,4}y', 'x222y', re.DEBUG)"
   ]
  },
  {
   "cell_type": "code",
   "execution_count": 305,
   "id": "9d66580c",
   "metadata": {},
   "outputs": [
    {
     "name": "stdout",
     "output_type": "stream",
     "text": [
      "LITERAL 120\n",
      "IN\n",
      "  LITERAL 49\n",
      "  LITERAL 50\n",
      "  LITERAL 51\n",
      "LITERAL 123\n",
      "LITERAL 102\n",
      "LITERAL 111\n",
      "LITERAL 111\n",
      "LITERAL 125\n",
      "LITERAL 121\n",
      "\n",
      " 0. INFO 8 0b1 8 8 (to 9)\n",
      "      prefix_skip 1\n",
      "      prefix [0x78] ('x')\n",
      "      overlap [0]\n",
      " 9: LITERAL 0x78 ('x')\n",
      "11. IN 5 (to 17)\n",
      "13.   RANGE 0x31 0x33 ('1'-'3')\n",
      "16.   FAILURE\n",
      "17: LITERAL 0x7b ('{')\n",
      "19. LITERAL 0x66 ('f')\n",
      "21. LITERAL 0x6f ('o')\n",
      "23. LITERAL 0x6f ('o')\n",
      "25. LITERAL 0x7d ('}')\n",
      "27. LITERAL 0x79 ('y')\n",
      "29. SUCCESS\n"
     ]
    }
   ],
   "source": [
    "re.search('x[123]{foo}y', 'x222y', re.DEBUG)"
   ]
  },
  {
   "cell_type": "code",
   "execution_count": 306,
   "id": "91d3f9dc",
   "metadata": {},
   "outputs": [
    {
     "name": "stdout",
     "output_type": "stream",
     "text": [
      "LITERAL 102\n",
      "LITERAL 111\n",
      "LITERAL 111\n",
      "\n",
      " 0. INFO 12 0b11 3 3 (to 13)\n",
      "      prefix_skip 3\n",
      "      prefix [0x66, 0x6f, 0x6f] ('foo')\n",
      "      overlap [0, 0, 0]\n",
      "13: LITERAL 0x66 ('f')\n",
      "15. LITERAL 0x6f ('o')\n",
      "17. LITERAL 0x6f ('o')\n",
      "19. SUCCESS\n"
     ]
    },
    {
     "data": {
      "text/plain": [
       "<re.Match object; span=(0, 3), match='foo'>"
      ]
     },
     "execution_count": 306,
     "metadata": {},
     "output_type": "execute_result"
    }
   ],
   "source": [
    "re.D = re.DEBUG\n",
    "re.search('foo', 'foo', re.D)"
   ]
  },
  {
   "cell_type": "code",
   "execution_count": 307,
   "id": "82e4b5bc",
   "metadata": {},
   "outputs": [
    {
     "data": {
      "text/plain": [
       "'१४६'"
      ]
     },
     "execution_count": 307,
     "metadata": {},
     "output_type": "execute_result"
    }
   ],
   "source": [
    "s = '\\u0967\\u096a\\u096c'\n",
    "s"
   ]
  },
  {
   "cell_type": "code",
   "execution_count": 308,
   "id": "c58a4332",
   "metadata": {},
   "outputs": [
    {
     "data": {
      "text/plain": [
       "<re.Match object; span=(0, 3), match='१४६'>"
      ]
     },
     "execution_count": 308,
     "metadata": {},
     "output_type": "execute_result"
    }
   ],
   "source": [
    "re.search('\\d+', s)"
   ]
  },
  {
   "cell_type": "code",
   "execution_count": 309,
   "id": "0a54ac33",
   "metadata": {},
   "outputs": [
    {
     "data": {
      "text/plain": [
       "'schön'"
      ]
     },
     "execution_count": 309,
     "metadata": {},
     "output_type": "execute_result"
    }
   ],
   "source": [
    " s = 'sch\\u00f6n'\n",
    "s"
   ]
  },
  {
   "cell_type": "code",
   "execution_count": 310,
   "id": "058003e3",
   "metadata": {},
   "outputs": [
    {
     "data": {
      "text/plain": [
       "<re.Match object; span=(0, 3), match='sch'>"
      ]
     },
     "execution_count": 310,
     "metadata": {},
     "output_type": "execute_result"
    }
   ],
   "source": [
    "re.search('\\w+', s, re.ASCII)"
   ]
  },
  {
   "cell_type": "code",
   "execution_count": 311,
   "id": "27deb40a",
   "metadata": {},
   "outputs": [
    {
     "data": {
      "text/plain": [
       "<re.Match object; span=(0, 5), match='schön'>"
      ]
     },
     "execution_count": 311,
     "metadata": {},
     "output_type": "execute_result"
    }
   ],
   "source": [
    "re.search('\\w+', s, re.UNICODE)"
   ]
  },
  {
   "cell_type": "code",
   "execution_count": 312,
   "id": "ac9b8d4e",
   "metadata": {},
   "outputs": [
    {
     "data": {
      "text/plain": [
       "<re.Match object; span=(0, 5), match='schön'>"
      ]
     },
     "execution_count": 312,
     "metadata": {},
     "output_type": "execute_result"
    }
   ],
   "source": [
    "re.search('\\w+', s)"
   ]
  },
  {
   "cell_type": "code",
   "execution_count": 313,
   "id": "4c3e0269",
   "metadata": {},
   "outputs": [
    {
     "data": {
      "text/plain": [
       "<re.Match object; span=(4, 7), match='BAR'>"
      ]
     },
     "execution_count": 313,
     "metadata": {},
     "output_type": "execute_result"
    }
   ],
   "source": [
    "re.search('^bar', 'FOO\\nBAR\\nBAZ', re.I|re.M)"
   ]
  },
  {
   "cell_type": "code",
   "execution_count": 314,
   "id": "98c62a5c",
   "metadata": {},
   "outputs": [
    {
     "data": {
      "text/plain": [
       "<re.Match object; span=(4, 7), match='BAR'>"
      ]
     },
     "execution_count": 314,
     "metadata": {},
     "output_type": "execute_result"
    }
   ],
   "source": [
    "re.search('^bar', 'FOO\\nBAR\\nBAZ\\n', re.I|re.M)"
   ]
  },
  {
   "cell_type": "code",
   "execution_count": 315,
   "id": "3d04f294",
   "metadata": {},
   "outputs": [
    {
     "data": {
      "text/plain": [
       "<re.Match object; span=(0, 6), match='FOObar'>"
      ]
     },
     "execution_count": 315,
     "metadata": {},
     "output_type": "execute_result"
    }
   ],
   "source": [
    " re.search('(?i:foo)bar', 'FOObar')"
   ]
  },
  {
   "cell_type": "code",
   "execution_count": 316,
   "id": "077f1d79",
   "metadata": {},
   "outputs": [
    {
     "name": "stdout",
     "output_type": "stream",
     "text": [
      "None\n"
     ]
    }
   ],
   "source": [
    "print(re.search('(?i:foo)bar', 'FOOBAR'))"
   ]
  },
  {
   "cell_type": "code",
   "execution_count": 317,
   "id": "39ecba58",
   "metadata": {},
   "outputs": [
    {
     "name": "stdout",
     "output_type": "stream",
     "text": [
      "None\n"
     ]
    }
   ],
   "source": [
    "print(re.search('(?-i:foo)bar', 'FOOBAR', re.IGNORECASE))"
   ]
  },
  {
   "cell_type": "code",
   "execution_count": 318,
   "id": "0480196b",
   "metadata": {},
   "outputs": [
    {
     "data": {
      "text/plain": [
       "'schön'"
      ]
     },
     "execution_count": 318,
     "metadata": {},
     "output_type": "execute_result"
    }
   ],
   "source": [
    "s = 'sch\\u00f6n'\n",
    "s"
   ]
  },
  {
   "cell_type": "code",
   "execution_count": 319,
   "id": "78755494",
   "metadata": {},
   "outputs": [
    {
     "data": {
      "text/plain": [
       "<re.Match object; span=(0, 3), match='sch'>"
      ]
     },
     "execution_count": 319,
     "metadata": {},
     "output_type": "execute_result"
    }
   ],
   "source": [
    "re.search('(?a:\\w+)', s)"
   ]
  },
  {
   "cell_type": "code",
   "execution_count": 320,
   "id": "9ce56631",
   "metadata": {},
   "outputs": [
    {
     "data": {
      "text/plain": [
       "<re.Match object; span=(0, 5), match='schön'>"
      ]
     },
     "execution_count": 320,
     "metadata": {},
     "output_type": "execute_result"
    }
   ],
   "source": [
    "re.search('(?u:\\w+)', s)"
   ]
  },
  {
   "cell_type": "markdown",
   "id": "cc60b548",
   "metadata": {},
   "source": [
    "# Regex Part 2"
   ]
  },
  {
   "cell_type": "code",
   "execution_count": 321,
   "id": "1e1f9cfd",
   "metadata": {},
   "outputs": [
    {
     "data": {
      "text/plain": [
       "<re.Match object; span=(3, 6), match='123'>"
      ]
     },
     "execution_count": 321,
     "metadata": {},
     "output_type": "execute_result"
    }
   ],
   "source": [
    "re.search(r'(\\d+)', 'foo123bar')"
   ]
  },
  {
   "cell_type": "code",
   "execution_count": 322,
   "id": "f7aa438a",
   "metadata": {},
   "outputs": [
    {
     "data": {
      "text/plain": [
       "<re.Match object; span=(3, 6), match='FOO'>"
      ]
     },
     "execution_count": 322,
     "metadata": {},
     "output_type": "execute_result"
    }
   ],
   "source": [
    "re.search(r'[a-z]+', '123FOO456', flags=re.IGNORECASE)"
   ]
  },
  {
   "cell_type": "code",
   "execution_count": 323,
   "id": "8467bec8",
   "metadata": {},
   "outputs": [
    {
     "name": "stdout",
     "output_type": "stream",
     "text": [
      "None\n"
     ]
    }
   ],
   "source": [
    "print(re.search(r'\\d+', 'foo.bar'))"
   ]
  },
  {
   "cell_type": "code",
   "execution_count": 324,
   "id": "eceec1e0",
   "metadata": {},
   "outputs": [
    {
     "data": {
      "text/plain": [
       "<re.Match object; span=(0, 3), match='123'>"
      ]
     },
     "execution_count": 324,
     "metadata": {},
     "output_type": "execute_result"
    }
   ],
   "source": [
    "re.match(r'\\d+', '123foobar')"
   ]
  },
  {
   "cell_type": "code",
   "execution_count": 325,
   "id": "f5a6f731",
   "metadata": {},
   "outputs": [
    {
     "name": "stdout",
     "output_type": "stream",
     "text": [
      "None\n"
     ]
    }
   ],
   "source": [
    "print(re.match(r'\\d+', 'foo123bar'))"
   ]
  },
  {
   "cell_type": "code",
   "execution_count": 326,
   "id": "2bfb7cd3",
   "metadata": {},
   "outputs": [
    {
     "name": "stdout",
     "output_type": "stream",
     "text": [
      "<re.Match object; span=(0, 3), match='foo'>\n",
      "None\n"
     ]
    }
   ],
   "source": [
    "s = 'foo\\nbar\\nbaz'\n",
    "print(re.match('^foo', s))\n",
    "print(re.match('^bar', s, re.MULTILINE))"
   ]
  },
  {
   "cell_type": "code",
   "execution_count": 327,
   "id": "28cf7dcd",
   "metadata": {},
   "outputs": [
    {
     "name": "stdout",
     "output_type": "stream",
     "text": [
      "None\n",
      "None\n",
      "None\n"
     ]
    },
    {
     "data": {
      "text/plain": [
       "<re.Match object; span=(0, 3), match='123'>"
      ]
     },
     "execution_count": 327,
     "metadata": {},
     "output_type": "execute_result"
    }
   ],
   "source": [
    "print(re.fullmatch(r'\\d+', '123foo'))\n",
    "print(re.fullmatch(r'\\d+', 'foo123'))\n",
    "print(re.fullmatch(r'\\d+', 'foo123bar'))\n",
    "re.fullmatch(r'\\d+', '123')"
   ]
  },
  {
   "cell_type": "code",
   "execution_count": 329,
   "id": "8000c14d",
   "metadata": {},
   "outputs": [
    {
     "data": {
      "text/plain": [
       "['foo', 'bar', 'baz']"
      ]
     },
     "execution_count": 329,
     "metadata": {},
     "output_type": "execute_result"
    }
   ],
   "source": [
    "a = re.findall(r'\\w+', '...foo,,,,bar:%$baz//|')\n",
    "a"
   ]
  },
  {
   "cell_type": "code",
   "execution_count": 330,
   "id": "5e5af2f0",
   "metadata": {},
   "outputs": [
    {
     "data": {
      "text/plain": [
       "['foo', 'bar', 'baz']"
      ]
     },
     "execution_count": 330,
     "metadata": {},
     "output_type": "execute_result"
    }
   ],
   "source": [
    " re.findall(r'#(\\w+)#', '#foo#.#bar#.#baz#')"
   ]
  },
  {
   "cell_type": "code",
   "execution_count": 332,
   "id": "5c457072",
   "metadata": {},
   "outputs": [
    {
     "data": {
      "text/plain": [
       "[('foo', 'bar'), ('baz', 'qux'), ('quux', 'corge')]"
      ]
     },
     "execution_count": 332,
     "metadata": {},
     "output_type": "execute_result"
    }
   ],
   "source": [
    "re.findall(r'(\\w+),(\\w+)', 'foo,bar,baz,qux,quux,corge,cr')"
   ]
  },
  {
   "cell_type": "code",
   "execution_count": 333,
   "id": "f836af34",
   "metadata": {},
   "outputs": [
    {
     "data": {
      "text/plain": [
       "<re.Match object; span=(3, 6), match='foo'>"
      ]
     },
     "execution_count": 333,
     "metadata": {},
     "output_type": "execute_result"
    }
   ],
   "source": [
    "it = re.finditer(r'\\w+', '...foo,,,,bar:%$baz//|')\n",
    "next(it)"
   ]
  },
  {
   "cell_type": "code",
   "execution_count": 334,
   "id": "efb4d5d3",
   "metadata": {},
   "outputs": [
    {
     "data": {
      "text/plain": [
       "<re.Match object; span=(10, 13), match='bar'>"
      ]
     },
     "execution_count": 334,
     "metadata": {},
     "output_type": "execute_result"
    }
   ],
   "source": [
    "next(it)"
   ]
  },
  {
   "cell_type": "code",
   "execution_count": 335,
   "id": "9c9a33a8",
   "metadata": {},
   "outputs": [
    {
     "data": {
      "text/plain": [
       "<re.Match object; span=(16, 19), match='baz'>"
      ]
     },
     "execution_count": 335,
     "metadata": {},
     "output_type": "execute_result"
    }
   ],
   "source": [
    "next(it)"
   ]
  },
  {
   "cell_type": "code",
   "execution_count": 336,
   "id": "7f7b898d",
   "metadata": {},
   "outputs": [
    {
     "name": "stdout",
     "output_type": "stream",
     "text": [
      "<re.Match object; span=(3, 6), match='foo'>\n",
      "<re.Match object; span=(10, 13), match='bar'>\n",
      "<re.Match object; span=(16, 19), match='baz'>\n"
     ]
    }
   ],
   "source": [
    "for i in re.finditer(r'\\w+', '...foo,,,,bar:%$baz//|'):\n",
    "...     print(i)"
   ]
  },
  {
   "cell_type": "code",
   "execution_count": 341,
   "id": "f69a9e96",
   "metadata": {},
   "outputs": [
    {
     "data": {
      "text/plain": [
       "'foo.#.bar.#.baz'"
      ]
     },
     "execution_count": 341,
     "metadata": {},
     "output_type": "execute_result"
    }
   ],
   "source": [
    "s = 'foo.123.bar.789.baz'\n",
    "re.sub(r'\\d+', '#', s)"
   ]
  },
  {
   "cell_type": "code",
   "execution_count": 338,
   "id": "74a1b53b",
   "metadata": {},
   "outputs": [
    {
     "data": {
      "text/plain": [
       "'(*).123.(*).789.(*)'"
      ]
     },
     "execution_count": 338,
     "metadata": {},
     "output_type": "execute_result"
    }
   ],
   "source": [
    "re.sub('[a-z]+', '(*)', s)"
   ]
  },
  {
   "cell_type": "code",
   "execution_count": null,
   "id": "97c22ec0",
   "metadata": {},
   "outputs": [],
   "source": []
  }
 ],
 "metadata": {
  "kernelspec": {
   "display_name": "Python 3 (ipykernel)",
   "language": "python",
   "name": "python3"
  },
  "language_info": {
   "codemirror_mode": {
    "name": "ipython",
    "version": 3
   },
   "file_extension": ".py",
   "mimetype": "text/x-python",
   "name": "python",
   "nbconvert_exporter": "python",
   "pygments_lexer": "ipython3",
   "version": "3.9.7"
  }
 },
 "nbformat": 4,
 "nbformat_minor": 5
}
